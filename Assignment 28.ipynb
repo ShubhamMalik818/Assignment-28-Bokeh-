{
 "cells": [
  {
   "cell_type": "code",
   "execution_count": null,
   "id": "9ee8d2c7-2a7f-478f-9798-cbbbbc10990d",
   "metadata": {},
   "outputs": [],
   "source": [
    "1. How can you create a Bokeh plot using Python code?"
   ]
  },
  {
   "cell_type": "code",
   "execution_count": null,
   "id": "2adfa3b0-5953-4731-8688-059a0c7ec019",
   "metadata": {},
   "outputs": [],
   "source": [
    "ANS- Bokeh is a Python library used for creating interactive and visually appealing plots and dashboards in web browsers. \n",
    "     Here is an example of how to create a simple Bokeh plot using Python code:"
   ]
  },
  {
   "cell_type": "code",
   "execution_count": 1,
   "id": "418ca26e-05f0-4ff1-8948-e82429771f04",
   "metadata": {},
   "outputs": [],
   "source": [
    "from bokeh.plotting import figure, output_file, show\n",
    "\n",
    "# create a new plot with a title and axis labels\n",
    "p = figure(title=\"My Bokeh Plot\", x_axis_label=\"x\", y_axis_label=\"y\")\n",
    "\n",
    "# add a line glyph with x and y data\n",
    "p.line(x=[1, 2, 3, 4, 5], y=[2, 5, 4, 6, 7], line_width=2)\n",
    "\n",
    "# specify the name of the output file and show the plot\n",
    "output_file(\"my_bokeh_plot.html\")\n",
    "show(p)"
   ]
  },
  {
   "cell_type": "code",
   "execution_count": null,
   "id": "9a69d2fd-e562-48c9-9318-9c9213c0185c",
   "metadata": {},
   "outputs": [],
   "source": [
    "In this example, we first import the figure, output_file, and show functions from the bokeh.plotting module. We then create a new plot with \n",
    "a title and axis labels using the figure() function. Next, we add a line glyph to the plot using the line() method and specifying the x and y data, \n",
    "as well as the line width. Finally, we specify the name of the output file using the output_file() function and show the plot in a web browser \n",
    "using the show() function.\n",
    "\n",
    "When you run this code, it will generate a Bokeh plot with a simple line graph and save it as an HTML file named \"my_bokeh_plot.html\" in the \n",
    "same directory as your Python script."
   ]
  },
  {
   "cell_type": "code",
   "execution_count": null,
   "id": "7173444c-f9cc-450f-bdba-a10a8d56e9b2",
   "metadata": {},
   "outputs": [],
   "source": [
    "2. What are glyphs in Bokeh, and how can you add them to a Bokeh plot? Explain with an example."
   ]
  },
  {
   "cell_type": "code",
   "execution_count": null,
   "id": "21dc2734-076e-4648-af31-ac75045f6a9d",
   "metadata": {},
   "outputs": [],
   "source": [
    "ANS- In Bokeh, glyphs are visual markers used to represent data points in a plot. Some common glyph types include circles, squares, triangles, \n",
    "and lines. Glyphs can be customized with various attributes such as color, size, and transparency to convey additional information about the data.\n",
    "\n",
    "To add glyphs to a Bokeh plot, you can use the glyph methods provided by the figure object, such as circle(), square(), triangle(), and line(). \n",
    "Here is an example of how to add circles and lines to a Bokeh plot:"
   ]
  },
  {
   "cell_type": "code",
   "execution_count": 2,
   "id": "30d04d35-defd-43fd-ab40-5df3122ca0d1",
   "metadata": {},
   "outputs": [],
   "source": [
    "from bokeh.plotting import figure, output_file, show\n",
    "\n",
    "# create a new plot with a title and axis labels\n",
    "p = figure(title=\"My Bokeh Plot\", x_axis_label=\"x\", y_axis_label=\"y\")\n",
    "\n",
    "# add circle and line glyphs with x and y data\n",
    "p.circle(x=[1, 2, 3, 4, 5], y=[2, 5, 4, 6, 7], size=10, color=\"blue\", alpha=0.5)\n",
    "p.line(x=[1, 2, 3, 4, 5], y=[2, 5, 4, 6, 7], line_width=2, color=\"red\")\n",
    "\n",
    "# specify the name of the output file and show the plot\n",
    "output_file(\"my_bokeh_glyphs.html\")\n",
    "show(p)"
   ]
  },
  {
   "cell_type": "code",
   "execution_count": null,
   "id": "b9cbbfde-2966-4751-ad63-d9ceef728157",
   "metadata": {},
   "outputs": [],
   "source": [
    "3. How can you customize the appearance of a Bokeh plot, including the axes, title, and legend?"
   ]
  },
  {
   "cell_type": "code",
   "execution_count": null,
   "id": "2cce4114-38dc-475e-aa3f-706534808c4b",
   "metadata": {},
   "outputs": [],
   "source": [
    "ANS- Bokeh provides a wide range of customization options for plots, including changing the appearance of the axes, title, legend, and \n",
    "other plot elements. \n",
    "Here are some examples of how to customize the appearance of a Bokeh plot using Python code:"
   ]
  },
  {
   "cell_type": "code",
   "execution_count": null,
   "id": "2efdd57b-61ca-4df8-bf6b-55b665dc1012",
   "metadata": {},
   "outputs": [],
   "source": [
    "from bokeh.plotting import figure, output_file, show\n",
    "\n",
    "# create a new plot with a title and axis labels\n",
    "p = figure(title=\"My Bokeh Plot\", x_axis_label=\"x\", y_axis_label=\"y\")\n",
    "\n",
    "# add a line glyph with x and y data\n",
    "p.line(x=[1, 2, 3, 4, 5], y=[2, 5, 4, 6, 7], line_width=2, legend_label=\"Line\")\n",
    "\n",
    "# customize the appearance of the plot\n",
    "p.title.text_color = \"blue\"\n",
    "p.title.text_font_size = \"20pt\"\n",
    "p.xaxis.axis_label_text_color = \"green\"\n",
    "p.yaxis.axis_label_text_color = \"red\"\n",
    "p.xaxis.major_label_text_color = \"purple\"\n",
    "p.yaxis.major_label_text_color = \"orange\"\n",
    "p.legend.label_text_color = \"navy\"\n",
    "p.legend.label_text_font_size = \"14pt\"\n",
    "p.legend.location = \"top_left\"\n",
    "\n",
    "# specify the name of the output file and show the plot\n",
    "output_file(\"my_custom_bokeh_plot.html\")\n",
    "show(p)"
   ]
  },
  {
   "cell_type": "code",
   "execution_count": null,
   "id": "faca3d09-7c58-4db0-bb7f-8ab1920f3151",
   "metadata": {},
   "outputs": [],
   "source": [
    "In this example, we first create a new plot with a title and axis labels using the figure() function. We then add a line glyph to the plot \n",
    "using the line() method and specify a legend label.\n",
    "\n",
    "Next, we customize the appearance of the plot by setting various attributes of the p object, which represents the plot. We change the color and \n",
    "font size of the title using the title.text_color and title.text_font_size attributes, respectively. We change the color of the x and y axis labels\n",
    "and tick labels using the xaxis.axis_label_text_color, yaxis.axis_label_text_color, xaxis.major_label_text_color, and yaxis.major_label_text_color \n",
    "attributes. We also change the color and font size of the legend labels using the legend.label_text_color and legend.label_text_font_size attributes, \n",
    "respectively, and specify the location of the legend using the legend.location attribute.\n",
    "\n",
    "When you run this code, it will generate a Bokeh plot with a customized appearance and save it as an HTML file named \"my_custom_bokeh_plot.html\" \n",
    "in the same directory as your Python script."
   ]
  },
  {
   "cell_type": "code",
   "execution_count": null,
   "id": "895c2dbb-b42b-4dbd-bd0f-e185af42cc36",
   "metadata": {},
   "outputs": [],
   "source": [
    "4. What is a Bokeh server, and how can you use it to create interactive plots that can be updated in real time?"
   ]
  },
  {
   "cell_type": "code",
   "execution_count": null,
   "id": "10856bd9-69f7-4e30-82f4-e14cd2dacd38",
   "metadata": {},
   "outputs": [],
   "source": [
    "ANS- Bokeh server is a component of the Bokeh library that allows you to create and deploy interactive web applications with Bokeh plots. \n",
    "Using the Bokeh server, you can create plots that can be updated in real-time based on user input, streaming data, or other sources.\n",
    "\n",
    "To use the Bokeh server to create interactive plots, you need to define a Bokeh application that specifies the layout and behavior of the plots. \n",
    "The Bokeh application can be written in Python using the Bokeh server API and typically includes a curdoc() function that returns a Document object \n",
    "that contains the Bokeh plot objects.\n",
    "\n",
    "Here is an example of how to use the Bokeh server to create an interactive plot that updates in real-time based on a slider widget:"
   ]
  },
  {
   "cell_type": "code",
   "execution_count": null,
   "id": "f9fd4e99-ef5f-4ad7-bde9-446efe33c803",
   "metadata": {},
   "outputs": [],
   "source": [
    "from bokeh.layouts import column\n",
    "from bokeh.models import CustomJS, Slider\n",
    "from bokeh.plotting import figure, curdoc\n",
    "\n",
    "# create a new plot with a title and axis labels\n",
    "p = figure(title=\"My Bokeh Plot\", x_axis_label=\"x\", y_axis_label=\"y\")\n",
    "\n",
    "# add a line glyph with x and y data\n",
    "line = p.line(x=[1, 2, 3, 4, 5], y=[2, 5, 4, 6, 7], line_width=2)\n",
    "\n",
    "# define the callback function for the slider\n",
    "callback = CustomJS(args=dict(source=line), code=\"\"\"\n",
    "    const data = source.data;\n",
    "    const f = cb_obj.value\n",
    "    const x = data['x']\n",
    "    const y = data['y']\n",
    "    for (var i = 0; i < x.length; i++) {\n",
    "        y[i] = Math.sin(f * x[i]);\n",
    "    }\n",
    "    source.change.emit();\n",
    "\"\"\")\n",
    "\n",
    "# create a slider widget\n",
    "slider = Slider(start=0.1, end=10, step=0.1, value=1, title=\"Frequency\")\n",
    "slider.js_on_change('value', callback)\n",
    "\n",
    "# arrange the plot and slider in a layout\n",
    "layout = column(p, slider)\n",
    "\n",
    "# add the layout to the current document\n",
    "curdoc().add_root(layout)"
   ]
  },
  {
   "cell_type": "code",
   "execution_count": null,
   "id": "1ab20eee-9632-42dd-9156-362ca3da8a7d",
   "metadata": {},
   "outputs": [],
   "source": [
    "In this example, we first create a new plot with a title and axis labels using the figure() function and add a line glyph to the plot \n",
    "using the line() method. We then define a callback function for a slider widget that updates the y data of the line glyph based on the value of \n",
    "the slider. The callback function is written in JavaScript using the CustomJS model.\n",
    "\n",
    "Next, we create a slider widget using the Slider() function and attach the callback function to the slider using the js_on_change() method. \n",
    "We then arrange the plot and slider in a layout using the column() function.\n",
    "\n",
    "Finally, we add the layout to the current document using the curdoc().add_root() method. This creates a Bokeh application that can be served \n",
    "using the Bokeh server. To run the application, you can save the code above to a file (e.g., my_bokeh_app.py) and run the following command in \n",
    "your terminal:\n",
    "    \n",
    "    bokeh serve my_bokeh_app.py\n",
    "\n",
    "This will start the Bokeh server and open the application in a web browser. You can interact with the slider to update the plot in real-time."
   ]
  },
  {
   "cell_type": "code",
   "execution_count": null,
   "id": "1fc43905-354d-4968-b615-3d62e3e29aaf",
   "metadata": {},
   "outputs": [],
   "source": [
    "5. How can you embed a Bokeh plot into a web page or dashboard using Flask or Django?"
   ]
  },
  {
   "cell_type": "code",
   "execution_count": null,
   "id": "a6bac0fa-afdb-4a5c-ad1f-01ce54837c76",
   "metadata": {},
   "outputs": [],
   "source": [
    "ANS- You can embed a Bokeh plot into a web page or dashboard using Flask or Django by using the components function of Bokeh. \n",
    "The components function returns the JavaScript and HTML code needed to embed a Bokeh plot into a web page. \n",
    "Here is an example of how to use Flask to embed a Bokeh plot:"
   ]
  },
  {
   "cell_type": "code",
   "execution_count": null,
   "id": "95727a69-5642-4bb5-a8de-1414ee3c0d9f",
   "metadata": {},
   "outputs": [],
   "source": [
    "from django.shortcuts import render\n",
    "from bokeh.plotting import figure, output_file, show\n",
    "from bokeh.embed import components\n",
    "\n",
    "def home(request):\n",
    "    # create a new plot with a title and axis labels\n",
    "    p = figure(title=\"My Bokeh Plot\", x_axis_label=\"x\", y_axis_label=\"y\")\n",
    "\n",
    "    # add a line glyph with x and y data\n",
    "    p.line(x=[1, 2, 3, 4, 5], y=[2, 5, 4, 6, 7], line_width=2)\n",
    "\n",
    "    # get the JavaScript and HTML code for the plot\n",
    "    script, div = components(p)\n",
    "\n",
    "    # render the template with the plot code\n",
    "    return render(request, 'home.html', {'script': script, 'div': div})"
   ]
  },
  {
   "cell_type": "code",
   "execution_count": null,
   "id": "e27f5ee3-ecef-4a3e-83e9-8ce6da9c7fb2",
   "metadata": {},
   "outputs": [],
   "source": [
    "In this example, we define a view function (home()) that creates a new Bokeh plot using the figure() and line() functions, and then uses \n",
    "the components() function to get the JavaScript and HTML code for the plot.\n",
    "\n",
    "We then render a template (home.html) that contains placeholders for the plot code using the render() function. The script and div variables containing the plot code are passed to the template as context variables."
   ]
  }
 ],
 "metadata": {
  "kernelspec": {
   "display_name": "Python 3 (ipykernel)",
   "language": "python",
   "name": "python3"
  },
  "language_info": {
   "codemirror_mode": {
    "name": "ipython",
    "version": 3
   },
   "file_extension": ".py",
   "mimetype": "text/x-python",
   "name": "python",
   "nbconvert_exporter": "python",
   "pygments_lexer": "ipython3",
   "version": "3.10.8"
  }
 },
 "nbformat": 4,
 "nbformat_minor": 5
}
